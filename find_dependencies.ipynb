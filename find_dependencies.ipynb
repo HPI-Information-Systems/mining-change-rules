{
 "cells": [
  {
   "cell_type": "markdown",
   "metadata": {},
   "source": [
    "# Find Change Dependencies"
   ]
  },
  {
   "cell_type": "code",
   "execution_count": 1,
   "metadata": {},
   "outputs": [],
   "source": [
    "import os\n",
    "import pandas as pd\n",
    "from mlxtend.frequent_patterns import apriori\n",
    "from mlxtend.preprocessing import TransactionEncoder\n",
    "\n",
    "from find_changes import load_change_transactions\n",
    "\n",
    "TRANSACTION_FILE = os.path.join(\"transactions\", \"table_changes\")"
   ]
  },
  {
   "cell_type": "code",
   "execution_count": 2,
   "metadata": {},
   "outputs": [],
   "source": [
    "transactions = load_change_transactions(TRANSACTION_FILE)\n",
    "te = TransactionEncoder()\n",
    "te_ary = te.fit(transactions).transform(transactions)\n",
    "ohe_transactions = pd.DataFrame(te_ary, columns=te.columns_)"
   ]
  },
  {
   "cell_type": "code",
   "execution_count": 3,
   "metadata": {},
   "outputs": [
    {
     "data": {
      "text/html": [
       "<div>\n",
       "<style scoped>\n",
       "    .dataframe tbody tr th:only-of-type {\n",
       "        vertical-align: middle;\n",
       "    }\n",
       "\n",
       "    .dataframe tbody tr th {\n",
       "        vertical-align: top;\n",
       "    }\n",
       "\n",
       "    .dataframe thead th {\n",
       "        text-align: right;\n",
       "    }\n",
       "</style>\n",
       "<table border=\"1\" class=\"dataframe\">\n",
       "  <thead>\n",
       "    <tr style=\"text-align: right;\">\n",
       "      <th></th>\n",
       "      <th>support</th>\n",
       "      <th>itemsets</th>\n",
       "      <th>length</th>\n",
       "    </tr>\n",
       "  </thead>\n",
       "  <tbody>\n",
       "    <tr>\n",
       "      <th>9</th>\n",
       "      <td>1.0</td>\n",
       "      <td>(28ny-9ts8, 2244-gnrp)</td>\n",
       "      <td>2</td>\n",
       "    </tr>\n",
       "    <tr>\n",
       "      <th>339</th>\n",
       "      <td>1.0</td>\n",
       "      <td>(2a5n-q5ky, 2tu5-7kif, 28ny-9ts8, 28v6-p9wg, 2...</td>\n",
       "      <td>5</td>\n",
       "    </tr>\n",
       "    <tr>\n",
       "      <th>352</th>\n",
       "      <td>1.0</td>\n",
       "      <td>(2tu5-7kif, 2eks-pg5j, 28ny-9ts8, 2gne-qgxz, 2...</td>\n",
       "      <td>5</td>\n",
       "    </tr>\n",
       "    <tr>\n",
       "      <th>351</th>\n",
       "      <td>1.0</td>\n",
       "      <td>(2eks-pg5j, 2jz8-wskw, 28ny-9ts8, 2gne-qgxz, 2...</td>\n",
       "      <td>5</td>\n",
       "    </tr>\n",
       "    <tr>\n",
       "      <th>350</th>\n",
       "      <td>1.0</td>\n",
       "      <td>(2a5n-q5ky, 2tu5-7kif, 2jz8-wskw, 28ny-9ts8, 2...</td>\n",
       "      <td>5</td>\n",
       "    </tr>\n",
       "    <tr>\n",
       "      <th>...</th>\n",
       "      <td>...</td>\n",
       "      <td>...</td>\n",
       "      <td>...</td>\n",
       "    </tr>\n",
       "    <tr>\n",
       "      <th>171</th>\n",
       "      <td>1.0</td>\n",
       "      <td>(2976-zu3f, 2tu5-7kif, 2eks-pg5j, 2244-gnrp)</td>\n",
       "      <td>4</td>\n",
       "    </tr>\n",
       "    <tr>\n",
       "      <th>170</th>\n",
       "      <td>1.0</td>\n",
       "      <td>(2976-zu3f, 2jz8-wskw, 2eks-pg5j, 2244-gnrp)</td>\n",
       "      <td>4</td>\n",
       "    </tr>\n",
       "    <tr>\n",
       "      <th>169</th>\n",
       "      <td>1.0</td>\n",
       "      <td>(2976-zu3f, 2gne-qgxz, 2eks-pg5j, 2244-gnrp)</td>\n",
       "      <td>4</td>\n",
       "    </tr>\n",
       "    <tr>\n",
       "      <th>168</th>\n",
       "      <td>1.0</td>\n",
       "      <td>(2976-zu3f, 2tu5-7kif, 2a5n-q5ky, 2244-gnrp)</td>\n",
       "      <td>4</td>\n",
       "    </tr>\n",
       "    <tr>\n",
       "      <th>510</th>\n",
       "      <td>1.0</td>\n",
       "      <td>(2a5n-q5ky, 2tu5-7kif, 2eks-pg5j, 2jz8-wskw, 2...</td>\n",
       "      <td>9</td>\n",
       "    </tr>\n",
       "  </tbody>\n",
       "</table>\n",
       "<p>502 rows × 3 columns</p>\n",
       "</div>"
      ],
      "text/plain": [
       "     support                                           itemsets  length\n",
       "9        1.0                             (28ny-9ts8, 2244-gnrp)       2\n",
       "339      1.0  (2a5n-q5ky, 2tu5-7kif, 28ny-9ts8, 28v6-p9wg, 2...       5\n",
       "352      1.0  (2tu5-7kif, 2eks-pg5j, 28ny-9ts8, 2gne-qgxz, 2...       5\n",
       "351      1.0  (2eks-pg5j, 2jz8-wskw, 28ny-9ts8, 2gne-qgxz, 2...       5\n",
       "350      1.0  (2a5n-q5ky, 2tu5-7kif, 2jz8-wskw, 28ny-9ts8, 2...       5\n",
       "..       ...                                                ...     ...\n",
       "171      1.0       (2976-zu3f, 2tu5-7kif, 2eks-pg5j, 2244-gnrp)       4\n",
       "170      1.0       (2976-zu3f, 2jz8-wskw, 2eks-pg5j, 2244-gnrp)       4\n",
       "169      1.0       (2976-zu3f, 2gne-qgxz, 2eks-pg5j, 2244-gnrp)       4\n",
       "168      1.0       (2976-zu3f, 2tu5-7kif, 2a5n-q5ky, 2244-gnrp)       4\n",
       "510      1.0  (2a5n-q5ky, 2tu5-7kif, 2eks-pg5j, 2jz8-wskw, 2...       9\n",
       "\n",
       "[502 rows x 3 columns]"
      ]
     },
     "execution_count": 3,
     "metadata": {},
     "output_type": "execute_result"
    }
   ],
   "source": [
    "frequent_itemsets = apriori(ohe_transactions, min_support=0.9, use_colnames=True)\n",
    "frequent_itemsets[\"length\"] = frequent_itemsets[\"itemsets\"].apply(lambda x: len(x))\n",
    "frequent_itemsets[frequent_itemsets[\"length\"] > 1].sort_values(by=\"support\", ascending=False)"
   ]
  }
 ],
 "metadata": {
  "kernelspec": {
   "display_name": "Python 3",
   "language": "python",
   "name": "python3"
  },
  "language_info": {
   "codemirror_mode": {
    "name": "ipython",
    "version": 3
   },
   "file_extension": ".py",
   "mimetype": "text/x-python",
   "name": "python",
   "nbconvert_exporter": "python",
   "pygments_lexer": "ipython3",
   "version": "3.7.6"
  }
 },
 "nbformat": 4,
 "nbformat_minor": 4
}
